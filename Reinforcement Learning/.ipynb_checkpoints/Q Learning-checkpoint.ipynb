{
 "cells": [
  {
   "cell_type": "markdown",
   "id": "enclosed-roman",
   "metadata": {},
   "source": [
    "# Q Learning Framework"
   ]
  },
  {
   "cell_type": "markdown",
   "id": "black-friend",
   "metadata": {},
   "source": [
    "For Sequential Decision Making in Reinforcement Learning. Q-Learning is one of the popular method besides policy gradient. Q-learning is the learning of value function. Before we explain Q-Learning we will need to define state value function $V$ and state action value function $Q$. These functions are also often known as the Bellman Equation or Value Iteration or Dynamic Programming. Given $s \\in S, a \\in A, r(s,a) \\in \\mathbb{R}, P(\\cdot|s,a) \\in \\triangle^S$, and $\\gamma \\in [0,1]$, We define $, V(s) \\in \\mathbb{R}$ and $Q(s,a) \\in \\mathbb{R}$ as following\n",
    "\n",
    "$$V^\\star (s) = \\max_a\\{ \\mathbb{E}_{S'\\sim P(\\cdot|s,a)}[ r(s,a) + \\gamma V(S')] \\}= \\max_a \\{ r(s,a) + \\gamma P^\\intercal(S'|s,a) V^\\star(S') \\}$$\n",
    "\n",
    "$$Q^\\star (s,a) = \\mathbb{E}_{S'\\sim P(\\cdot|s,a)}[ r(s,a) + \\gamma \\max_{a'}\\{Q(S',a')\\}]=   r(s,a) + \\gamma  \\max_{a'}\\{P^\\intercal(S'|s,a) Q(S',a')\\} $$"
   ]
  },
  {
   "cell_type": "code",
   "execution_count": null,
   "id": "outside-party",
   "metadata": {},
   "outputs": [],
   "source": []
  }
 ],
 "metadata": {
  "kernelspec": {
   "display_name": "Python 3",
   "language": "python",
   "name": "python3"
  },
  "language_info": {
   "codemirror_mode": {
    "name": "ipython",
    "version": 3
   },
   "file_extension": ".py",
   "mimetype": "text/x-python",
   "name": "python",
   "nbconvert_exporter": "python",
   "pygments_lexer": "ipython3",
   "version": "3.8.3"
  }
 },
 "nbformat": 4,
 "nbformat_minor": 5
}
