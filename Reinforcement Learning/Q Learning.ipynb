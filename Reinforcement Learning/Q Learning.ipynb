{
 "cells": [
  {
   "cell_type": "markdown",
   "id": "warming-county",
   "metadata": {},
   "source": [
    "# Q Learning"
   ]
  },
  {
   "cell_type": "markdown",
   "id": "advanced-elite",
   "metadata": {},
   "source": [
    "For Sequential Decision Making in Reinforcement Learning. Q-Learning is one of the popular method besides policy gradient. Q-learning is the learning of value function. Before we explain Q-Learning we will need to define state value function $V$ and state action value function $Q$. Given $s \\in S, a \\in A, r(s,a) \\in \\mathbb{R}, P(\\cdot|s,a) \\in \\triangle^S$, and $\\gamma \\in [0,1]$. The value function $V^\\pi(s)$ or $Q^\\pi(s,a)$ for a given policy $\\pi$ can be interpreted as the expected total discounted reward the agent will receive in that current state and action following policy $\\pi(s) \\in \\triangle^A$,  \n",
    "$$V^\\pi(s) = \\mathbb{E}[\\sum_{\\tau = t}^T \\gamma^{\\tau-t} R_\\tau^\\pi(S_\\tau,A_\\tau) \\mid S_t = s, A_\\tau \\sim \\pi(S_{\\tau-1})].$$ We could calculate the value functions with Dynamic Programming which are also often known as the Bellman Equation or Value Iteration\n",
    "$$V^\\pi(s) = \\mathbb{E}_{S'\\sim P(\\cdot|s,A)}[r(s,A)+\\gamma V^\\pi(S')| A \\sim \\pi(s)]$$\n",
    "$$Q^\\pi(s) = \\mathbb{E}_{S'\\sim P(\\cdot|s,A)}[r(s,A)+\\gamma Q^\\pi(S',A')| A \\sim \\pi(s),A' \\sim \\pi(S')]$$"
   ]
  },
  {
   "cell_type": "code",
   "execution_count": null,
   "id": "crazy-reviewer",
   "metadata": {},
   "outputs": [],
   "source": []
  },
  {
   "cell_type": "markdown",
   "id": "missing-tulsa",
   "metadata": {},
   "source": [
    "We define the optimal value function $V^\\star(s) \\in \\mathbb{R}$ and $Q^\\star(s,a) \\in \\mathbb{R}$ as value function that follows the optimal policy $\\pi^\\star(s,a)$.\n",
    "\n",
    "$$V^\\star (s) = \\max_a\\{ \\mathbb{E}_{S'\\sim P(\\cdot|s,a)}[ r(s,a) + \\gamma V(S')] \\}= \\max_a \\{ r(s,a) + \\gamma P^\\intercal(S'|s,a) V^\\star(S') \\}$$\n",
    "\n",
    "$$Q^\\star (s,a) = \\mathbb{E}_{S'\\sim P(\\cdot|s,a)}[ r(s,a) + \\gamma \\max_{a'}\\{Q^\\star(S',a')\\}]=   r(s,a) + \\gamma  \\max_{a'}\\{P^\\intercal(S'|s,a) Q^\\star(S',a')\\} $$"
   ]
  },
  {
   "cell_type": "code",
   "execution_count": null,
   "id": "owned-section",
   "metadata": {},
   "outputs": [],
   "source": []
  }
 ],
 "metadata": {
  "kernelspec": {
   "display_name": "Python 3",
   "language": "python",
   "name": "python3"
  },
  "language_info": {
   "codemirror_mode": {
    "name": "ipython",
    "version": 3
   },
   "file_extension": ".py",
   "mimetype": "text/x-python",
   "name": "python",
   "nbconvert_exporter": "python",
   "pygments_lexer": "ipython3",
   "version": "3.8.3"
  }
 },
 "nbformat": 4,
 "nbformat_minor": 5
}
