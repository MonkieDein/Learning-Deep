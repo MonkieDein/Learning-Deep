{
 "cells": [
  {
   "cell_type": "markdown",
   "id": "76bcdba0",
   "metadata": {},
   "source": [
    "# Numpy Library"
   ]
  },
  {
   "cell_type": "markdown",
   "id": "d2ad5b6d",
   "metadata": {},
   "source": [
    "Why use numpy over list?\n",
    "- Numpy is faster than list. (Numpy uses fixed type eg:int32 )\n",
    "- Numpy array can be treated as matrix for matrix operator."
   ]
  },
  {
   "cell_type": "markdown",
   "id": "22f12adc",
   "metadata": {},
   "source": [
    "## Load Numpy Library"
   ]
  },
  {
   "cell_type": "code",
   "execution_count": 44,
   "id": "81ef8738",
   "metadata": {},
   "outputs": [],
   "source": [
    "import numpy as np\n",
    "\n",
    "def p(inp):\n",
    "    return print(inp)"
   ]
  },
  {
   "cell_type": "markdown",
   "id": "32a684da",
   "metadata": {},
   "source": [
    "## The Basics"
   ]
  },
  {
   "cell_type": "markdown",
   "id": "96cdd013",
   "metadata": {},
   "source": [
    "### Initialization"
   ]
  },
  {
   "cell_type": "code",
   "execution_count": 5,
   "id": "dc030975",
   "metadata": {},
   "outputs": [
    {
     "name": "stdout",
     "output_type": "stream",
     "text": [
      "[1 2 3]\n"
     ]
    }
   ],
   "source": [
    "a = np.array([1,2,3])\n",
    "print(a)"
   ]
  },
  {
   "cell_type": "code",
   "execution_count": 8,
   "id": "f11deb3e",
   "metadata": {},
   "outputs": [
    {
     "name": "stdout",
     "output_type": "stream",
     "text": [
      "[[9. 8. 7.]\n",
      " [6. 5. 4.]]\n"
     ]
    }
   ],
   "source": [
    "b = np.array([[9.0,8.0,7.0],[6.0,5.0,4.0]])\n",
    "print(b)"
   ]
  },
  {
   "cell_type": "code",
   "execution_count": 18,
   "id": "56d5843f",
   "metadata": {},
   "outputs": [
    {
     "name": "stdout",
     "output_type": "stream",
     "text": [
      "[[1. 1. 1. 1. 1.]\n",
      " [1. 1. 1. 1. 1.]]\n"
     ]
    }
   ],
   "source": [
    "a2 = np.ones((2,5))\n",
    "print(a2)"
   ]
  },
  {
   "cell_type": "code",
   "execution_count": 31,
   "id": "ec4a2f3a",
   "metadata": {},
   "outputs": [
    {
     "name": "stdout",
     "output_type": "stream",
     "text": [
      "[[0 0 0 0]\n",
      " [0 0 0 0]\n",
      " [0 0 0 0]]\n"
     ]
    }
   ],
   "source": [
    "a3 = np.zeros((3,4),dtype='int64')\n",
    "print(a3)"
   ]
  },
  {
   "cell_type": "code",
   "execution_count": 64,
   "id": "8ae5a719",
   "metadata": {
    "scrolled": true
   },
   "outputs": [
    {
     "data": {
      "text/plain": [
       "array([[9, 9, 9, 9, 9],\n",
       "       [9, 9, 9, 9, 9],\n",
       "       [9, 9, 9, 9, 9],\n",
       "       [9, 9, 9, 9, 9]])"
      ]
     },
     "execution_count": 64,
     "metadata": {},
     "output_type": "execute_result"
    }
   ],
   "source": [
    "nine = np.full((4,5),9)\n",
    "nine"
   ]
  },
  {
   "cell_type": "code",
   "execution_count": 75,
   "id": "bc4273ea",
   "metadata": {},
   "outputs": [
    {
     "data": {
      "text/plain": [
       "array([[4, 4, 4, 4, 4],\n",
       "       [4, 4, 4, 4, 4],\n",
       "       [4, 4, 4, 4, 4],\n",
       "       [4, 4, 4, 4, 4]])"
      ]
     },
     "execution_count": 75,
     "metadata": {},
     "output_type": "execute_result"
    }
   ],
   "source": [
    "# full_like(shape,value)\n",
    "np.full_like(nine,4)"
   ]
  },
  {
   "cell_type": "code",
   "execution_count": 69,
   "id": "23dbebd2",
   "metadata": {
    "scrolled": true
   },
   "outputs": [
    {
     "name": "stdout",
     "output_type": "stream",
     "text": [
      "[[0.21893199 0.7725582 ]\n",
      " [0.46999949 0.15527845]\n",
      " [0.38210772 0.16917254]]\n"
     ]
    }
   ],
   "source": [
    "# random decimal numbers\n",
    "p(np.random.rand(3,2))"
   ]
  },
  {
   "cell_type": "code",
   "execution_count": 70,
   "id": "6e9697aa",
   "metadata": {
    "scrolled": false
   },
   "outputs": [
    {
     "name": "stdout",
     "output_type": "stream",
     "text": [
      "[[0.16873259 0.40465017 0.59343744 0.59270162 0.56843282]\n",
      " [0.65772237 0.60750568 0.70166517 0.54477923 0.39743382]\n",
      " [0.1198799  0.12334387 0.27866334 0.09715877 0.243629  ]\n",
      " [0.94597446 0.41745033 0.31705988 0.26702727 0.20166977]]\n"
     ]
    }
   ],
   "source": [
    "# random_sample(shape)\n",
    "p(np.random.random_sample(nine.shape))"
   ]
  },
  {
   "cell_type": "code",
   "execution_count": 72,
   "id": "a54bf915",
   "metadata": {},
   "outputs": [
    {
     "data": {
      "text/plain": [
       "array([[5, 4, 3],\n",
       "       [3, 5, 4],\n",
       "       [5, 3, 4]])"
      ]
     },
     "execution_count": 72,
     "metadata": {},
     "output_type": "execute_result"
    }
   ],
   "source": [
    "# randint(start,end,size=(1))\n",
    "np.random.randint(3,6,size=(3,3))"
   ]
  },
  {
   "cell_type": "code",
   "execution_count": 76,
   "id": "2f4dbaf6",
   "metadata": {},
   "outputs": [
    {
     "data": {
      "text/plain": [
       "array([[1., 0., 0.],\n",
       "       [0., 1., 0.],\n",
       "       [0., 0., 1.]])"
      ]
     },
     "execution_count": 76,
     "metadata": {},
     "output_type": "execute_result"
    }
   ],
   "source": [
    "# identity matrixes\n",
    "np.identity(3)"
   ]
  },
  {
   "cell_type": "code",
   "execution_count": 80,
   "id": "7bff446f",
   "metadata": {},
   "outputs": [
    {
     "data": {
      "text/plain": [
       "array([[ 0,  1,  2,  3],\n",
       "       [ 4,  5,  6,  7],\n",
       "       [ 8,  9, 10, 11],\n",
       "       [12, 13, 14, 15]])"
      ]
     },
     "execution_count": 80,
     "metadata": {},
     "output_type": "execute_result"
    }
   ],
   "source": [
    "a5=np.reshape(np.arange(16),(4,4))\n",
    "a5"
   ]
  },
  {
   "cell_type": "code",
   "execution_count": 82,
   "id": "c88941dd",
   "metadata": {
    "scrolled": true
   },
   "outputs": [
    {
     "data": {
      "text/plain": [
       "array([ 0,  5, 10, 15])"
      ]
     },
     "execution_count": 82,
     "metadata": {},
     "output_type": "execute_result"
    }
   ],
   "source": [
    "np.diag(a5)"
   ]
  },
  {
   "cell_type": "code",
   "execution_count": 89,
   "id": "b4d1cb88",
   "metadata": {
    "scrolled": true
   },
   "outputs": [
    {
     "name": "stdout",
     "output_type": "stream",
     "text": [
      "[1 1 1 2 2 2 3 3 3]\n",
      "[[1 2 3]\n",
      " [1 2 3]\n",
      " [1 2 3]]\n"
     ]
    }
   ],
   "source": [
    "a6 = np.array([[1,2,3]])\n",
    "# with no specified axis (get flatten)\n",
    "p(np.repeat(a6,3))\n",
    "# with specified axis repeat over the axis\n",
    "p(np.repeat(a6,3,axis=0))"
   ]
  },
  {
   "cell_type": "code",
   "execution_count": 93,
   "id": "e455ce92",
   "metadata": {},
   "outputs": [
    {
     "name": "stdout",
     "output_type": "stream",
     "text": [
      "[[1 1 1 1 1]\n",
      " [1 1 1 1 1]\n",
      " [1 1 1 1 1]\n",
      " [1 1 1 1 1]\n",
      " [1 1 1 1 1]]\n",
      "[[1 1 1 1 1]\n",
      " [1 0 0 0 1]\n",
      " [1 0 0 0 1]\n",
      " [1 0 0 0 1]\n",
      " [1 1 1 1 1]]\n",
      "[[1 1 1 1 1]\n",
      " [1 0 0 0 1]\n",
      " [1 0 9 0 1]\n",
      " [1 0 0 0 1]\n",
      " [1 1 1 1 1]]\n"
     ]
    }
   ],
   "source": [
    "a7= np.ones((5,5),dtype=\"int64\")\n",
    "p(a7)\n",
    "a7[1:-1,1:-1] = 0\n",
    "p(a7)\n",
    "a7[2,2]=9\n",
    "p(a7)"
   ]
  },
  {
   "cell_type": "markdown",
   "id": "52dfd48a",
   "metadata": {},
   "source": [
    "### Methods for Numpy"
   ]
  },
  {
   "cell_type": "code",
   "execution_count": 32,
   "id": "d4fdb351",
   "metadata": {
    "scrolled": true
   },
   "outputs": [
    {
     "data": {
      "text/plain": [
       "2"
      ]
     },
     "execution_count": 32,
     "metadata": {},
     "output_type": "execute_result"
    }
   ],
   "source": [
    "a3.ndim"
   ]
  },
  {
   "cell_type": "code",
   "execution_count": 33,
   "id": "5b7bd08b",
   "metadata": {},
   "outputs": [
    {
     "data": {
      "text/plain": [
       "(3, 4)"
      ]
     },
     "execution_count": 33,
     "metadata": {},
     "output_type": "execute_result"
    }
   ],
   "source": [
    "a3.shape"
   ]
  },
  {
   "cell_type": "code",
   "execution_count": 34,
   "id": "ad2510f6",
   "metadata": {},
   "outputs": [
    {
     "data": {
      "text/plain": [
       "dtype('int64')"
      ]
     },
     "execution_count": 34,
     "metadata": {},
     "output_type": "execute_result"
    }
   ],
   "source": [
    "a3.dtype"
   ]
  },
  {
   "cell_type": "code",
   "execution_count": 35,
   "id": "bf25ccc4",
   "metadata": {
    "scrolled": true
   },
   "outputs": [
    {
     "data": {
      "text/plain": [
       "8"
      ]
     },
     "execution_count": 35,
     "metadata": {},
     "output_type": "execute_result"
    }
   ],
   "source": [
    "# How many bytes is required for an element\n",
    "a3.itemsize"
   ]
  },
  {
   "cell_type": "markdown",
   "id": "35a9ae51",
   "metadata": {},
   "source": [
    "### Access / Changing elements"
   ]
  },
  {
   "cell_type": "code",
   "execution_count": 51,
   "id": "73827c8b",
   "metadata": {},
   "outputs": [
    {
     "data": {
      "text/plain": [
       "array([[ 3,  4,  5,  6,  7,  8,  9],\n",
       "       [11, 12, 13, 14, 15, 16, 17]])"
      ]
     },
     "execution_count": 51,
     "metadata": {},
     "output_type": "execute_result"
    }
   ],
   "source": [
    "A = np.array([np.arange(3,10),np.arange(11,18)])\n",
    "A"
   ]
  },
  {
   "cell_type": "code",
   "execution_count": 52,
   "id": "1eda57a7",
   "metadata": {},
   "outputs": [
    {
     "data": {
      "text/plain": [
       "(2, 7)"
      ]
     },
     "execution_count": 52,
     "metadata": {},
     "output_type": "execute_result"
    }
   ],
   "source": [
    "A.shape"
   ]
  },
  {
   "cell_type": "code",
   "execution_count": 53,
   "id": "de9034a1",
   "metadata": {},
   "outputs": [
    {
     "data": {
      "text/plain": [
       "14"
      ]
     },
     "execution_count": 53,
     "metadata": {},
     "output_type": "execute_result"
    }
   ],
   "source": [
    "# get a specific element [r,c], index start from 0\n",
    "A[1,3]"
   ]
  },
  {
   "cell_type": "code",
   "execution_count": 54,
   "id": "2142160a",
   "metadata": {},
   "outputs": [
    {
     "name": "stdout",
     "output_type": "stream",
     "text": [
      "[11 12 13 14 15 16 17]\n",
      "[ 5 13]\n"
     ]
    }
   ],
   "source": [
    "# Get a whole row or column\n",
    "p(A[1,:]) # Row 2\n",
    "p(A[:,2]) # Col 3"
   ]
  },
  {
   "cell_type": "code",
   "execution_count": 55,
   "id": "7437ab98",
   "metadata": {},
   "outputs": [
    {
     "data": {
      "text/plain": [
       "array([3, 5, 7])"
      ]
     },
     "execution_count": 55,
     "metadata": {},
     "output_type": "execute_result"
    }
   ],
   "source": [
    "# Index with stepsize [start:end:stepsize], start inclusive , end exclusive\n",
    "A[0,0:6:2]"
   ]
  },
  {
   "cell_type": "code",
   "execution_count": 56,
   "id": "a697999b",
   "metadata": {},
   "outputs": [
    {
     "name": "stdout",
     "output_type": "stream",
     "text": [
      "[[ 3  4  5  6  7  8  9]\n",
      " [11 12  1 14 15 16 17]]\n",
      "[[ 3  2  5  6  7  8  9]\n",
      " [11  2  1 14 15 16 17]]\n"
     ]
    }
   ],
   "source": [
    "# Change single value \n",
    "A[1,2]= 1\n",
    "p(A)\n",
    "A[:,1] = 2\n",
    "p(A)"
   ]
  },
  {
   "cell_type": "code",
   "execution_count": 60,
   "id": "705c10a9",
   "metadata": {},
   "outputs": [
    {
     "name": "stdout",
     "output_type": "stream",
     "text": [
      "[[[1 2]\n",
      "  [3 4]]\n",
      "\n",
      " [[5 6]\n",
      "  [7 8]]]\n",
      "3\n"
     ]
    }
   ],
   "source": [
    "# 3D\n",
    "# Get specific element (work outside in)\n",
    "b = np.array([[[1,2],[3,4]],[[5,6],[7,8]]])\n",
    "p(b)\n",
    "p(b[0,1,0])"
   ]
  },
  {
   "cell_type": "markdown",
   "id": "a22a43b4",
   "metadata": {},
   "source": [
    "<span style=\"color:red\">Be careful when assigning from array to array!!! Address is copied not the whole array."
   ]
  },
  {
   "cell_type": "code",
   "execution_count": 97,
   "id": "4abd8bd2",
   "metadata": {},
   "outputs": [
    {
     "name": "stdout",
     "output_type": "stream",
     "text": [
      "[100   2   3]\n"
     ]
    }
   ],
   "source": [
    "a = np.array([1,2,3])\n",
    "b = a\n",
    "b[0]= 100\n",
    "p(a)"
   ]
  },
  {
   "cell_type": "markdown",
   "id": "3f1d8658",
   "metadata": {},
   "source": [
    "<span style=\"color:green\">Correct way to do assignment copy"
   ]
  },
  {
   "cell_type": "code",
   "execution_count": 100,
   "id": "782a6226",
   "metadata": {},
   "outputs": [
    {
     "name": "stdout",
     "output_type": "stream",
     "text": [
      "[1 2 3]\n"
     ]
    }
   ],
   "source": [
    "a = np.array([1,2,3])\n",
    "b = a.copy()\n",
    "b[0]= 100\n",
    "p(a)"
   ]
  },
  {
   "cell_type": "markdown",
   "id": "dd4a88e9",
   "metadata": {},
   "source": [
    "### Mathematics operation"
   ]
  },
  {
   "cell_type": "code",
   "execution_count": 103,
   "id": "b9524521",
   "metadata": {},
   "outputs": [
    {
     "name": "stdout",
     "output_type": "stream",
     "text": [
      "[3 4 5]\n",
      "[-1  0  1]\n",
      "[2 4 6]\n",
      "[0.5 1.  1.5]\n",
      "[1 4 9]\n"
     ]
    }
   ],
   "source": [
    "p(a+2)\n",
    "p(a-2)\n",
    "p(a*2)\n",
    "p(a/2)\n",
    "p(a**2)"
   ]
  },
  {
   "cell_type": "code",
   "execution_count": 104,
   "id": "bb7c0670",
   "metadata": {},
   "outputs": [
    {
     "data": {
      "text/plain": [
       "array([0.84147098, 0.90929743, 0.14112001])"
      ]
     },
     "execution_count": 104,
     "metadata": {},
     "output_type": "execute_result"
    }
   ],
   "source": [
    "np.sin(a)"
   ]
  },
  {
   "cell_type": "markdown",
   "id": "30c3f1b7",
   "metadata": {},
   "source": [
    "For a lot more (https://docs.scipy.org/doc/numpy/reference/routines.math.html)\n"
   ]
  },
  {
   "cell_type": "code",
   "execution_count": null,
   "id": "fad6a5c1",
   "metadata": {},
   "outputs": [],
   "source": []
  }
 ],
 "metadata": {
  "kernelspec": {
   "display_name": "Python 3 (ipykernel)",
   "language": "python",
   "name": "python3"
  },
  "language_info": {
   "codemirror_mode": {
    "name": "ipython",
    "version": 3
   },
   "file_extension": ".py",
   "mimetype": "text/x-python",
   "name": "python",
   "nbconvert_exporter": "python",
   "pygments_lexer": "ipython3",
   "version": "3.9.13"
  }
 },
 "nbformat": 4,
 "nbformat_minor": 5
}
